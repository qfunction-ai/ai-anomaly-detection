{
 "cells": [
  {
   "cell_type": "code",
   "execution_count": 1,
   "id": "57c91213-3488-4067-9a09-104473fbc752",
   "metadata": {
    "tags": []
   },
   "outputs": [],
   "source": [
    "#Import needed libraries\n",
    "\n",
    "import pandas as pd\n",
    "import numpy as np\n",
    "from sklearn.preprocessing import MinMaxScaler\n",
    "from tensorflow.keras.preprocessing.sequence import pad_sequences\n",
    "import tensorflow as tf\n",
    "from tensorflow import keras\n",
    "from tensorflow.keras import initializers\n",
    "from tensorflow.keras.models import Model, Sequential\n",
    "from tensorflow.keras.layers import Activation, Dense, Dropout, Input\n",
    "from tqdm import tqdm"
   ]
  },
  {
   "cell_type": "code",
   "execution_count": 2,
   "id": "ef8ef382-8df9-4afb-b07e-bfe7ea15db4d",
   "metadata": {
    "tags": []
   },
   "outputs": [],
   "source": [
    "#Setup GAN components, including generator, discriminator, and putting them together\n",
    "\n",
    "def get_generator(optimizer, max_length):\n",
    "    \n",
    "    generator = Sequential()\n",
    "\n",
    "    generator.add(Dense(max_length, input_dim=max_length, kernel_initializer=initializers.glorot_normal(seed=42)))\n",
    "    generator.add(Activation('tanh'))\n",
    "    \n",
    "    generator.add(Dense(max_length))\n",
    "    generator.add(Activation('tanh'))\n",
    "    \n",
    "    generator.add(Dense(max_length))\n",
    "    generator.add(Activation('tanh'))\n",
    "    \n",
    "    generator.add(Dense(max_length))\n",
    "    generator.add(Activation('tanh'))\n",
    "       \n",
    "    generator.add(Dense(512))\n",
    "    generator.add(Activation('tanh'))\n",
    "\n",
    "    generator.add(Dense(1024))\n",
    "    generator.add(Activation('tanh'))\n",
    "   \n",
    "    generator.add(Dense(max_length, activation='tanh'))\n",
    "    \n",
    "    generator.compile(loss='binary_crossentropy', optimizer=optimizer)\n",
    "    \n",
    "    return generator\n",
    "\n",
    "def get_discriminator(optimizer, max_length):\n",
    "    \n",
    "    discriminator = Sequential()\n",
    "\n",
    "    discriminator.add(Dense(512, input_dim=max_length, kernel_initializer=initializers.glorot_normal(seed=42)))\n",
    "    discriminator.add(Activation('relu'))\n",
    "    discriminator.add(Dropout(0.2))\n",
    "\n",
    "    discriminator.add(Dense(1024))\n",
    "    discriminator.add(Activation('relu'))\n",
    "    discriminator.add(Dropout(0.2))\n",
    "       \n",
    "    discriminator.add(Dense(1024))\n",
    "    discriminator.add(Activation('relu'))\n",
    "    discriminator.add(Dropout(0.2))\n",
    "    \n",
    "    discriminator.add(Dense(1024))\n",
    "    discriminator.add(Activation('relu'))\n",
    "    discriminator.add(Dropout(0.2))\n",
    "\n",
    "    discriminator.add(Dense(max_length))\n",
    "    discriminator.add(Activation('relu'))\n",
    "    discriminator.add(Dropout(0.2))\n",
    "    \n",
    "    discriminator.add(Dense(1))\n",
    "    discriminator.add(Activation('sigmoid'))\n",
    "   \n",
    "    discriminator.compile(loss='binary_crossentropy', optimizer=optimizer)\n",
    "\n",
    "    return discriminator\n",
    "\n",
    "def get_gan_network(discriminator, generator, optimizer,input_dim):\n",
    "\n",
    "    discriminator.trainable = False   \n",
    "    gan_input = Input(shape=(input_dim,))  \n",
    "    x = generator(gan_input)        \n",
    "    gan_output = discriminator(x)\n",
    "    \n",
    "    gan = Model(inputs=gan_input, outputs=gan_output)    \n",
    "    gan.compile(loss='binary_crossentropy', optimizer=optimizer)\n",
    "    \n",
    "    return gan"
   ]
  },
  {
   "cell_type": "code",
   "execution_count": 3,
   "id": "b9ef4a47-a0bd-418f-8664-05641890689c",
   "metadata": {
    "tags": []
   },
   "outputs": [],
   "source": [
    "#Read lines of Zeek network connection log file\n",
    "f = open('conn.log', 'r')\n",
    "lines = f.readlines()\n",
    "f.close()"
   ]
  },
  {
   "cell_type": "code",
   "execution_count": 4,
   "id": "93067c5c-aaca-44c0-960f-b7917fe89626",
   "metadata": {
    "tags": []
   },
   "outputs": [],
   "source": [
    "#Establish the fields needed in each log entry that need to be collected\n",
    "\n",
    "model_type = {\"dest_port\":5,\"service_duration\":8,\"orig_bytes\":9,\"resp_bytes\":10,\"orig_pkts\":16,\"resp_pkts\":18}"
   ]
  },
  {
   "cell_type": "code",
   "execution_count": 5,
   "id": "aaedc8cb-ecf6-4b0a-829c-9c54b6fb0bfe",
   "metadata": {},
   "outputs": [],
   "source": [
    "#Setup the fields \n",
    "dest_ports = []\n",
    "service_durations = []\n",
    "orig_bytes = []\n",
    "resp_bytes = []\n",
    "orig_pkts = []\n",
    "resp_pkts = []\n",
    "\n",
    "#Loop through each line in the Zeek log file and collect the needed fields into their respective lists\n",
    "for line in lines[8:]:\n",
    "    values = line.strip().split('\\t')\n",
    "    dest_ports.append(values[model_type[\"dest_port\"]].replace('\"',''))\n",
    "    \n",
    "    try:\n",
    "        service_durations.append(float(values[model_type[\"service_duration\"]].replace('\"','')))\n",
    "    except:\n",
    "        service_durations.append(0)\n",
    "    \n",
    "    try:\n",
    "        orig_bytes.append(float(values[model_type[\"orig_bytes\"]].replace('\"','')))\n",
    "    except:\n",
    "        orig_bytes.append(0)\n",
    "        \n",
    "    try:\n",
    "        resp_bytes.append(float(values[model_type[\"resp_bytes\"]].replace('\"','')))\n",
    "    except:\n",
    "        resp_bytes.append(0)\n",
    "        \n",
    "    try:\n",
    "        orig_pkts.append(float(values[model_type[\"orig_pkts\"]].replace('\"','')))\n",
    "    except:\n",
    "        orig_pkts.append(0)\n",
    "        \n",
    "    try:\n",
    "        resp_pkts.append(float(values[model_type[\"resp_pkts\"]].replace('\"','')))\n",
    "    except:\n",
    "        resp_pkts.append(0)\n",
    "\n",
    "vocab = {}\n",
    "\n",
    "import random\n",
    "low = 0\n",
    "high = 1\n",
    "  \n",
    "# Python Generate List of Random Numbers Between 0 to 1\n",
    "floatList = [random.uniform(low, high) for _ in range(257)]\n",
    "\n",
    "for i in range(0, 257):\n",
    "    vocab[i] = floatList[i]\n",
    "    \n",
    "vocab_size = len(vocab)\n",
    "\n",
    "inverse_vocab = {index: token for token, index in vocab.items()}\n",
    "\n",
    "#Highest port number is 65535, which is 5 digits, so we'll set the max length to 5\n",
    "dest_ports_max_length = 5\n",
    "\n",
    "#Make each digit of the port a fixed length of 5\n",
    "dest_ports_x = [np.frombuffer(bytearray(dest_port, 'utf-8'), np.uint8) for dest_port in dest_ports]\n",
    "dest_ports_x = pad_sequences(dest_ports_x, maxlen=dest_ports_max_length, padding='post', value=0, truncating='post')\n",
    "\n",
    "#Vectorize the port into the vocabulary established above\n",
    "dest_ports_x_train = []\n",
    "for item in dest_ports_x:\n",
    "    dest_ports_x_train.append([vocab[i] for i in item])\n",
    "\n",
    "#Combine each collected field of the logs (excluding the ports) into a single line\n",
    "#NOTE: We are treating these other fields as actual numbers and not strings, unlike the port number.\n",
    "#Each of these fields will have a length of 1\n",
    "final_arr = []\n",
    "for i, line in enumerate(lines[8:]):\n",
    "    temp_arr = [service_durations[i], orig_bytes[i], resp_bytes[i], orig_pkts[i], resp_pkts[i]]\n",
    "    final_arr.append(temp_arr)\n",
    "final_arr = np.array(final_arr, dtype=np.float32)\n",
    "\n",
    "#Scale the values of each collected field (excluding the ports) between 0 and 1\n",
    "scaler = MinMaxScaler()\n",
    "scaled_final_arr = scaler.fit_transform(final_arr)\n",
    "\n",
    "#Concatenate the ports (which have a fixed length of 5) with the other 5 fields\n",
    "#(with each field having a length of 1) making a single record of training data\n",
    "#of length 10\n",
    "scaled_final_arr = np.concatenate((dest_ports_x_train,scaled_final_arr), axis=1)\n",
    "dest_ports_max_length = 10"
   ]
  },
  {
   "cell_type": "code",
   "execution_count": 6,
   "id": "753dcb12-543c-452e-86bf-6c3c7e00a275",
   "metadata": {
    "tags": []
   },
   "outputs": [
    {
     "name": "stderr",
     "output_type": "stream",
     "text": [
      "100%|█████████████████████████████████████████| 200/200 [00:49<00:00,  4.09it/s]"
     ]
    },
    {
     "name": "stdout",
     "output_type": "stream",
     "text": [
      "Discriminator loss: \n",
      "[0.6928174495697021, 0.6920928955078125, 0.6909103393554688, 0.6897597312927246, 0.688757061958313, 0.6876227259635925, 0.6861789226531982, 0.6850824356079102, 0.6839335560798645, 0.6825533509254456, 0.6814640164375305, 0.6799668073654175, 0.6782865524291992, 0.6771367192268372, 0.6757914423942566, 0.6745542883872986, 0.6731886267662048, 0.6719822287559509, 0.6700883507728577, 0.6690427660942078, 0.6674253940582275, 0.6663064360618591, 0.6646772623062134, 0.6631197333335876, 0.6619468331336975, 0.6611558794975281, 0.6590762138366699, 0.6581125259399414, 0.656096339225769, 0.6545801758766174, 0.6532592177391052, 0.6516775488853455, 0.6502810716629028, 0.6490690112113953, 0.6474320292472839, 0.6457554697990417, 0.6441176533699036, 0.6422962546348572, 0.6411712169647217, 0.6389447450637817, 0.6365605592727661, 0.6355240345001221, 0.6345027089118958, 0.6331733465194702, 0.6309202909469604, 0.6289929747581482, 0.6275322437286377, 0.6255716681480408, 0.6225805878639221, 0.6228891015052795, 0.6213704347610474, 0.6178010702133179, 0.6159032583236694, 0.6158626079559326, 0.6122684478759766, 0.611358106136322, 0.608932614326477, 0.6075556874275208, 0.6052438616752625, 0.6045302748680115, 0.6032969951629639, 0.6001646518707275, 0.595291018486023, 0.5971033573150635, 0.598155677318573, 0.5921391248703003, 0.5944953560829163, 0.5908733606338501, 0.5876963138580322, 0.5854203104972839, 0.5847863554954529, 0.5846618413925171, 0.580199658870697, 0.580470621585846, 0.5818477869033813, 0.5779088139533997, 0.5778183341026306, 0.5775768756866455, 0.5741346478462219, 0.5711871981620789, 0.5740522146224976, 0.5684565305709839, 0.5686593055725098, 0.5690591931343079, 0.566423773765564, 0.5613002777099609, 0.5616717338562012, 0.5578442215919495, 0.5661093592643738, 0.559009313583374, 0.5615809559822083, 0.5548055768013, 0.5573140978813171, 0.5567052960395813, 0.5471692085266113, 0.5512337684631348, 0.5541144013404846, 0.5508747100830078, 0.5437934994697571, 0.5495779514312744, 0.550382137298584, 0.5439586639404297, 0.549569845199585, 0.540794849395752, 0.5435251593589783, 0.5401701331138611, 0.5421637296676636, 0.539206862449646, 0.5407193303108215, 0.5377102494239807, 0.5338743925094604, 0.5311645269393921, 0.5407705307006836, 0.5350069403648376, 0.532899796962738, 0.531933069229126, 0.5304137468338013, 0.5300788283348083, 0.5316139459609985, 0.5301494598388672, 0.5370153784751892, 0.5320691466331482, 0.5288246273994446, 0.5306506752967834, 0.528737485408783, 0.5249518752098083, 0.5227209329605103, 0.5299472212791443, 0.5311211943626404, 0.527358889579773, 0.5277563333511353, 0.5175848007202148, 0.5251022577285767, 0.5212014317512512, 0.5326967835426331, 0.5205262303352356, 0.533870279788971, 0.5252431631088257, 0.5215073227882385, 0.5312494039535522, 0.5189705491065979, 0.5255127549171448, 0.5369550585746765, 0.5236125588417053, 0.5258698463439941, 0.5226884484291077, 0.5283280611038208, 0.5238097310066223, 0.5222831964492798, 0.5319485068321228, 0.5248644948005676, 0.5316260457038879, 0.5256972312927246, 0.5169365406036377, 0.5274196267127991, 0.5140917897224426, 0.5168996453285217, 0.52089923620224, 0.5095720887184143, 0.5202758312225342, 0.5183950662612915, 0.512945830821991, 0.5167989134788513, 0.5200395584106445, 0.5249464511871338, 0.5202451944351196, 0.5147472023963928, 0.5279225707054138, 0.5170808434486389, 0.5198376774787903, 0.5210029482841492, 0.5160665512084961, 0.5139753222465515, 0.5243901014328003, 0.5175677537918091, 0.5180930495262146, 0.519391655921936, 0.5204720497131348, 0.5131893157958984, 0.5272887945175171, 0.5206277966499329, 0.5100966095924377, 0.5115952491760254, 0.5177397131919861, 0.5154670476913452, 0.5164292454719543, 0.515558660030365, 0.5115690231323242, 0.5139393210411072, 0.5121190547943115, 0.5147953629493713, 0.5116612911224365, 0.5099972486495972, 0.5089749693870544, 0.5085083246231079, 0.511831521987915, 0.5097963213920593, 0.5163042545318604, 0.5089571475982666, 0.5142068266868591]\n",
      "\n",
      "\n",
      "\n"
     ]
    }
   ],
   "source": [
    "learning_rate = 0.00001\n",
    "batch_size = len(scaled_final_arr)\n",
    "epochs = 200\n",
    "adam = tf.keras.optimizers.legacy.Adam(learning_rate = learning_rate,beta_1 = 0.5)\n",
    "    \n",
    "#Calculating the number of batches based on the batch size\n",
    "batch_count = len(scaled_final_arr) // batch_size\n",
    "pbar = tqdm(total=epochs * batch_count)\n",
    "gan_loss = []\n",
    "discriminator_loss = []\n",
    "\n",
    "#Inititalizing the network\n",
    "generator = get_generator(adam, dest_ports_max_length)\n",
    "discriminator = get_discriminator(adam, dest_ports_max_length)\n",
    "gan = get_gan_network(discriminator, generator, adam,input_dim=dest_ports_max_length)\n",
    "    \n",
    "for epoch in range(epochs):\n",
    "    d_loss= 0       \n",
    "    for index in range(batch_count):        \n",
    "        pbar.update(1)        \n",
    "        # Creating a random set of input noise and images\n",
    "        noise = np.random.normal(0, 1, size=[batch_size,dest_ports_max_length])\n",
    "        \n",
    "        # Generate fake logs\n",
    "        generated_images = generator.predict_on_batch(noise)\n",
    "        \n",
    "        #Obtain a batch of normal logs\n",
    "        image_batch = scaled_final_arr[index * batch_size: (index + 1) * batch_size]\n",
    "            \n",
    "        X = np.vstack((generated_images,image_batch))       \n",
    "        y_dis = np.ones(2*batch_size) \n",
    "        y_dis[:batch_size] = 0\n",
    "\n",
    "        # Train discriminator\n",
    "        discriminator.trainable = True\n",
    "        d_loss= discriminator.train_on_batch(X, y_dis)\n",
    "\n",
    "        # Train generator\n",
    "        noise = np.random.uniform(0, 1, size=[batch_size, dest_ports_max_length])\n",
    "        y_gen = np.ones(batch_size)\n",
    "        discriminator.trainable = False\n",
    "        g_loss = gan.train_on_batch(noise, y_gen)\n",
    "            \n",
    "        #Record the losses\n",
    "        gan_loss.append(g_loss)\n",
    "    discriminator_loss.append(d_loss)\n",
    "        \n",
    "orig_recon_scores = discriminator.predict(scaled_final_arr, verbose=False)\n",
    "orig_results = pd.DataFrame(orig_recon_scores, columns=['anomaly_score'])\n",
    "connection_median = orig_results['anomaly_score'].median()\n",
    "connection_std = orig_results['anomaly_score'].std()\n",
    "        \n",
    "print(\"Discriminator loss: \")\n",
    "print(discriminator_loss)\n",
    "print('\\n\\n')\n",
    "    "
   ]
  },
  {
   "cell_type": "code",
   "execution_count": 7,
   "id": "09af0ef5-f4f0-4634-a8d9-48bdee72381e",
   "metadata": {
    "tags": []
   },
   "outputs": [
    {
     "name": "stdout",
     "output_type": "stream",
     "text": [
      "107/107 [==============================] - 0s 2ms/step\n"
     ]
    }
   ],
   "source": [
    "#Run the fields through the anomaly detector (the discriminator) to find the anomalies in the data\n",
    "results = discriminator.predict(scaled_final_arr)"
   ]
  },
  {
   "cell_type": "code",
   "execution_count": 8,
   "id": "40e9b5f4-3afb-4b83-8e9a-52b6dc549c8e",
   "metadata": {
    "tags": []
   },
   "outputs": [
    {
     "data": {
      "text/plain": [
       "array([[0.6295813 ],\n",
       "       [0.6295813 ],\n",
       "       [0.6792722 ],\n",
       "       ...,\n",
       "       [0.68433505],\n",
       "       [0.68435663],\n",
       "       [0.43360224]], dtype=float32)"
      ]
     },
     "execution_count": 8,
     "metadata": {},
     "output_type": "execute_result"
    }
   ],
   "source": [
    "#Print the results\n",
    "results"
   ]
  },
  {
   "cell_type": "code",
   "execution_count": 9,
   "id": "1a536711-ab17-4408-a97b-16d355716575",
   "metadata": {
    "tags": []
   },
   "outputs": [
    {
     "data": {
      "text/plain": [
       "0.6792723536491394"
      ]
     },
     "execution_count": 9,
     "metadata": {},
     "output_type": "execute_result"
    }
   ],
   "source": [
    "#Print the median of the dataset, which should be above 0.50 as real data should be close to 1\n",
    "connection_median"
   ]
  },
  {
   "cell_type": "code",
   "execution_count": 10,
   "id": "da416c99-4591-4d42-9349-a13d81cec4e2",
   "metadata": {
    "tags": []
   },
   "outputs": [
    {
     "data": {
      "text/plain": [
       "0.010745502077043056"
      ]
     },
     "execution_count": 10,
     "metadata": {},
     "output_type": "execute_result"
    }
   ],
   "source": [
    "#Get the standard deviation of the data, showing the variation between data,\n",
    "#which should be small\n",
    "connection_std"
   ]
  },
  {
   "cell_type": "code",
   "execution_count": 11,
   "id": "5e65bc9a-6839-432e-be91-a7443ddd23fe",
   "metadata": {
    "tags": []
   },
   "outputs": [],
   "source": [
    "#For each predicted result, calculate its ZScore, which is\n",
    "#how many standard deviations it lies from the mean of the data\n",
    "#NOTE: we use median here to not be influenced by outliers\n",
    "zscores = []\n",
    "\n",
    "for pred in results:\n",
    "    value = pred[0]\n",
    "    found = False\n",
    "    for i in range(1,10):\n",
    "        threshold = connection_median - (i * connection_std)\n",
    "        if value > threshold:\n",
    "            zscores.append(i)\n",
    "            found = True\n",
    "            break\n",
    "    if not found:\n",
    "        zscores.append(10)"
   ]
  },
  {
   "cell_type": "code",
   "execution_count": 12,
   "id": "aded1286-3eda-4f64-8295-7030aba2f497",
   "metadata": {
    "tags": []
   },
   "outputs": [
    {
     "data": {
      "image/png": "[encoded data removed]",
      "text/plain": [
       "<Figure size 640x480 with 1 Axes>"
      ]
     },
     "metadata": {},
     "output_type": "display_data"
    }
   ],
   "source": [
    "#Plot the results\n",
    "import matplotlib.pyplot as plt\n",
    "\n",
    "zscores = np.array(zscores)\n",
    "unique, counts = np.unique(zscores, return_counts=True)\n",
    "\n",
    "fig, ax = plt.subplots()\n",
    "bar_colors = ['tab:green', 'tab:blue', 'tab:orange', 'tab:red']\n",
    "ax.bar(unique, counts, label=unique, color=bar_colors)\n",
    "\n",
    "ax.set_ylabel('Number of network connections')\n",
    "ax.set_title('Number of Network Connections by Anomaly Score')\n",
    "ax.legend(title='Anomaly Score')\n",
    "\n",
    "plt.show()"
   ]
  },
  {
   "cell_type": "code",
   "execution_count": 13,
   "id": "1a540cbb-2958-489e-9031-864abf957f32",
   "metadata": {},
   "outputs": [
    {
     "data": {
      "text/plain": [
       "array([3396])"
      ]
     },
     "execution_count": 13,
     "metadata": {},
     "output_type": "execute_result"
    }
   ],
   "source": [
    "#Find the indexes where the ZScore of the log is 10\n",
    "np.where(zscores == 10)[0]"
   ]
  },
  {
   "cell_type": "code",
   "execution_count": 14,
   "id": "f1bde20d-812a-4e73-aa1b-d5d0bec5b896",
   "metadata": {
    "tags": []
   },
   "outputs": [
    {
     "name": "stdout",
     "output_type": "stream",
     "text": [
      "1711394766.979827\tC0sYpa4mZA85wY5bP6\t192.168.100.129\t34100\t143.198.3.13\t11601\ttcp\tssl\t86511.291214\t24089117\t17914541\tS1\t-\t-\t0\tShADadwtt\t326237\t37138617\t345043\t31722626\t-\n",
      "\n"
     ]
    }
   ],
   "source": [
    "#Get the original Zeek logs (making sure to start where we originally collected the logs) and print the log at the index\n",
    "logs = lines[8:]\n",
    "print(logs[3396])"
   ]
  },
  {
   "cell_type": "code",
   "execution_count": null,
   "id": "8b295036-01dd-4a9a-9dbb-0af485823d60",
   "metadata": {},
   "outputs": [],
   "source": []
  }
 ],
 "metadata": {
  "kernelspec": {
   "display_name": "Python 3 (ipykernel)",
   "language": "python",
   "name": "python3"
  },
  "language_info": {
   "codemirror_mode": {
    "name": "ipython",
    "version": 3
   },
   "file_extension": ".py",
   "mimetype": "text/x-python",
   "name": "python",
   "nbconvert_exporter": "python",
   "pygments_lexer": "ipython3",
   "version": "3.11.5"
  }
 },
 "nbformat": 4,
 "nbformat_minor": 5
}
