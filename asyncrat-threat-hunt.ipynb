{
 "cells": [
  {
   "cell_type": "code",
   "execution_count": 1,
   "id": "9b7fb656-d954-4cd3-8091-74247ac0e705",
   "metadata": {
    "tags": []
   },
   "outputs": [],
   "source": [
    "#Import numpy library for standard deviation calculations\n",
    "import numpy as np"
   ]
  },
  {
   "cell_type": "code",
   "execution_count": 2,
   "id": "f1598abb-f03f-47d8-ba0a-ad99f8f36c56",
   "metadata": {
    "tags": []
   },
   "outputs": [],
   "source": [
    "#Read lines from Zeek network logs\n",
    "f = open('asyncrat_conn.log', 'r')\n",
    "lines = f.readlines()\n",
    "f.close()"
   ]
  },
  {
   "cell_type": "code",
   "execution_count": 3,
   "id": "b986bc8d-636c-4526-be9e-e6b3a384fbb5",
   "metadata": {
    "tags": []
   },
   "outputs": [],
   "source": [
    "#Parse Zeek network logs to identify unique source/destination pairs\n",
    "logs = []\n",
    "for line in lines[9:]:\n",
    "    fields = line.split('\\t')\n",
    "    src = fields[2]\n",
    "    dst = fields[4]\n",
    "    logs.append(src + ' ' + dst)\n",
    "src_dst_pairs = list(set(logs))"
   ]
  },
  {
   "cell_type": "code",
   "execution_count": 4,
   "id": "e152abdd-5d67-49e7-961c-2a9f45b90573",
   "metadata": {
    "tags": []
   },
   "outputs": [],
   "source": [
    "#Gather the times of connections for each unique source/destination pair, ignoring network connections to local network\n",
    "times = {}\n",
    "for pair in src_dst_pairs:\n",
    "    times[pair] = []\n",
    "\n",
    "for key in times.keys():\n",
    "    values = key.split(' ')\n",
    "    src = values[0]\n",
    "    dst = values[1]\n",
    "    \n",
    "    if '192.168' in dst:\n",
    "        continue\n",
    "    elif '::' in dst:\n",
    "        continue\n",
    "    elif '239.255' in dst:\n",
    "        continue\n",
    "    elif '224.0.0' in dst:\n",
    "        continue\n",
    "    elif '255.255' in dst:\n",
    "        continue\n",
    "    for line in lines[9:]:\n",
    "        if src in line and dst in line:\n",
    "            times[key].append(float(line.split('\\t')[0]))\n",
    "\n",
    "#Calculate the times between connections for each unique source/destination pair\n",
    "diffs = {}\n",
    "for key in times.keys():\n",
    "    diffs[key] = []\n",
    "    \n",
    "for key in diffs.keys():\n",
    "    k = 1\n",
    "    if len(times[key]) < 5:\n",
    "        continue\n",
    "    for value in times[key][1:]:\n",
    "        diff = value - times[key][k-1]\n",
    "        diffs[key].append(diff)\n",
    "        k = k + 1\n",
    "\n",
    "#Calculate standard deviations for each unique source/destination pair\n",
    "stds = {}\n",
    "for key in diffs.keys():\n",
    "    a = np.array(diffs[key])           \n",
    "    if len(a) < 4:\n",
    "        continue\n",
    "        \n",
    "    std = np.std(a)\n",
    "    stds[std] = key\n",
    "\n",
    "#Save list of calculated standard deviations to numpy array\n",
    "np_stds = np.array(list(stds.keys()))"
   ]
  },
  {
   "cell_type": "code",
   "execution_count": 5,
   "id": "26f4654c-1677-4da3-aa95-7e21ab040892",
   "metadata": {
    "tags": []
   },
   "outputs": [
    {
     "name": "stdout",
     "output_type": "stream",
     "text": [
      "SRC DST: 192.168.100.151 184.150.58.155, standard deviation: 0.0071574957538394855\n",
      "SRC DST: 192.168.100.139 162.159.200.1, standard deviation: 215.64447080534612\n",
      "SRC DST: 192.168.100.150 20.119.174.243, standard deviation: 21.33984602366211\n",
      "SRC DST: 192.168.100.136 143.198.3.13, standard deviation: 16.458849041232124\n",
      "SRC DST: 192.168.100.136 172.208.51.75, standard deviation: 0.868396098873865\n"
     ]
    }
   ],
   "source": [
    "#Print out all standard deviations below the 5th percentile, which should contain low standard deviations\n",
    "for key in stds.keys():\n",
    "    if key < np.percentile(np_stds, 5):\n",
    "        print('SRC DST: ' + stds[key] + ', standard deviation: ' + str(key))"
   ]
  },
  {
   "cell_type": "code",
   "execution_count": 6,
   "id": "663763b7-b83a-44a7-af4e-e1a7e682f223",
   "metadata": {
    "tags": []
   },
   "outputs": [
    {
     "data": {
      "text/plain": [
       "5"
      ]
     },
     "execution_count": 6,
     "metadata": {},
     "output_type": "execute_result"
    }
   ],
   "source": [
    "len(times['192.168.100.151 184.150.58.155'])"
   ]
  },
  {
   "cell_type": "code",
   "execution_count": 7,
   "id": "3a06e739-ed94-4ee0-b22a-1261b43a21be",
   "metadata": {
    "tags": []
   },
   "outputs": [
    {
     "data": {
      "text/plain": [
       "13281"
      ]
     },
     "execution_count": 7,
     "metadata": {},
     "output_type": "execute_result"
    }
   ],
   "source": [
    "len(times['192.168.100.136 172.208.51.75'])"
   ]
  }
 ],
 "metadata": {
  "kernelspec": {
   "display_name": "Python 3 (ipykernel)",
   "language": "python",
   "name": "python3"
  },
  "language_info": {
   "codemirror_mode": {
    "name": "ipython",
    "version": 3
   },
   "file_extension": ".py",
   "mimetype": "text/x-python",
   "name": "python",
   "nbconvert_exporter": "python",
   "pygments_lexer": "ipython3",
   "version": "3.11.5"
  }
 },
 "nbformat": 4,
 "nbformat_minor": 5
}
